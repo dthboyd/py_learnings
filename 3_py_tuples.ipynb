{
  "nbformat": 4,
  "nbformat_minor": 0,
  "metadata": {
    "colab": {
      "name": "3_py_tuples",
      "version": "0.3.2",
      "provenance": []
    },
    "kernelspec": {
      "display_name": "Python 3",
      "language": "python",
      "name": "python3"
    }
  },
  "cells": [
    {
      "metadata": {
        "id": "sx1KcAt9W1vT",
        "colab_type": "text"
      },
      "cell_type": "markdown",
      "source": [
        "# Tuples"
      ]
    },
    {
      "metadata": {
        "id": "EElfgZf3W1vV",
        "colab_type": "text"
      },
      "cell_type": "markdown",
      "source": [
        "-> A tuple is similar to list\n",
        "\n",
        "-> The diffence between the two is that we can't change the elements of tuple once it is assigned whereas in the list, elements can be changed"
      ]
    },
    {
      "metadata": {
        "id": "WJT6SMH4W1vX",
        "colab_type": "text"
      },
      "cell_type": "markdown",
      "source": [
        "# Tuple creation"
      ]
    },
    {
      "metadata": {
        "id": "UiatEwoHW1vZ",
        "colab_type": "code",
        "outputId": "be383cea-f401-44ef-b73f-15d7bfb79e88",
        "colab": {}
      },
      "cell_type": "code",
      "source": [
        "#empty tuple\n",
        "t = ()\n",
        "\n",
        "#tuple having integers\n",
        "t = (1, 2, 3)\n",
        "print(t)\n",
        "\n",
        "#tuple with mixed datatypes\n",
        "t = (1, 'raju', 28, 'abc')\n",
        "print(t)\n",
        "\n",
        "#nested tuple\n",
        "t = (1, (2, 3, 4), [1, 'raju', 28, 'abc'])\n",
        "print(t)"
      ],
      "execution_count": 0,
      "outputs": [
        {
          "output_type": "stream",
          "text": [
            "(1, 2, 3)\n",
            "(1, 'raju', 28, 'abc')\n",
            "(1, (2, 3, 4), [1, 'raju', 28, 'abc'])\n"
          ],
          "name": "stdout"
        }
      ]
    },
    {
      "metadata": {
        "id": "i2W4Zdz-W1vl",
        "colab_type": "code",
        "outputId": "001c03ef-f34a-4b52-9b33-c186793f4c26",
        "colab": {
          "base_uri": "https://localhost:8080/",
          "height": 34
        }
      },
      "cell_type": "code",
      "source": [
        "#only parenthesis is not enough\n",
        "t = ('satish')\n",
        "type(t)"
      ],
      "execution_count": 0,
      "outputs": [
        {
          "output_type": "execute_result",
          "data": {
            "text/plain": [
              "str"
            ]
          },
          "metadata": {
            "tags": []
          },
          "execution_count": 1
        }
      ]
    },
    {
      "metadata": {
        "id": "p2rUmdSnW1vs",
        "colab_type": "code",
        "outputId": "91c76a7a-5a01-469e-91c2-f9b7a0e3e72d",
        "colab": {
          "base_uri": "https://localhost:8080/",
          "height": 34
        }
      },
      "cell_type": "code",
      "source": [
        "#need a comma at the end\n",
        "t = ('satish',)\n",
        "type(t)"
      ],
      "execution_count": 0,
      "outputs": [
        {
          "output_type": "execute_result",
          "data": {
            "text/plain": [
              "tuple"
            ]
          },
          "metadata": {
            "tags": []
          },
          "execution_count": 2
        }
      ]
    },
    {
      "metadata": {
        "id": "qIX3ZfOqW1v3",
        "colab_type": "code",
        "outputId": "437135a5-a795-4ef3-db55-ec14487526ee",
        "colab": {
          "base_uri": "https://localhost:8080/",
          "height": 50
        }
      },
      "cell_type": "code",
      "source": [
        "#parenthesis is optional\n",
        "t = \"satish\", \n",
        "print(type(t))\n",
        "\n",
        "print(t)"
      ],
      "execution_count": 0,
      "outputs": [
        {
          "output_type": "stream",
          "text": [
            "<class 'tuple'>\n",
            "('satish',)\n"
          ],
          "name": "stdout"
        }
      ]
    },
    {
      "metadata": {
        "id": "jxUPWTfQW1wB",
        "colab_type": "text"
      },
      "cell_type": "markdown",
      "source": [
        "# Accessing Elements in Tuple"
      ]
    },
    {
      "metadata": {
        "id": "jxicMQbmW1wQ",
        "colab_type": "code",
        "outputId": "e6827a98-e09e-47c8-93de-c08b059516f3",
        "colab": {}
      },
      "cell_type": "code",
      "source": [
        "t = ('satish', 'murali', 'naveen', 'srinu', 'brahma')\n",
        "\n",
        "print(t[1])"
      ],
      "execution_count": 0,
      "outputs": [
        {
          "output_type": "stream",
          "text": [
            "murali\n"
          ],
          "name": "stdout"
        }
      ]
    },
    {
      "metadata": {
        "id": "6hPZa7bhW1wc",
        "colab_type": "code",
        "outputId": "248e1041-e39b-48e3-8189-3d0422d1ae7c",
        "colab": {}
      },
      "cell_type": "code",
      "source": [
        "#negative index\n",
        "print(t[-1]) #print last element in a tuple"
      ],
      "execution_count": 0,
      "outputs": [
        {
          "output_type": "stream",
          "text": [
            "brahma\n"
          ],
          "name": "stdout"
        }
      ]
    },
    {
      "metadata": {
        "id": "KKtMuA5nW1wt",
        "colab_type": "code",
        "outputId": "5d10715e-4509-40b5-d3f0-2d224126526b",
        "colab": {}
      },
      "cell_type": "code",
      "source": [
        "#nested tuple\n",
        "t = ('ABC', ('satish', 'naveen', 'srinu'))\n",
        "\n",
        "print(t[1])"
      ],
      "execution_count": 0,
      "outputs": [
        {
          "output_type": "stream",
          "text": [
            "('satish', 'naveen', 'srinu')\n"
          ],
          "name": "stdout"
        }
      ]
    },
    {
      "metadata": {
        "id": "uokqHyLKW1w4",
        "colab_type": "code",
        "outputId": "24d972b9-f3ea-454d-f011-913dd4e0ea5b",
        "colab": {}
      },
      "cell_type": "code",
      "source": [
        "print(t[1][2])"
      ],
      "execution_count": 0,
      "outputs": [
        {
          "output_type": "stream",
          "text": [
            "srinu\n"
          ],
          "name": "stdout"
        }
      ]
    },
    {
      "metadata": {
        "id": "-Mo3UuKIW1xE",
        "colab_type": "code",
        "outputId": "e1699bc7-5d60-415b-be64-bf4abdb6e50a",
        "colab": {}
      },
      "cell_type": "code",
      "source": [
        "#Slicing\n",
        "t = (1, 2, 3, 4, 5, 6)\n",
        "\n",
        "print(t[1:4])\n",
        "\n",
        "#print elements from starting to 2nd last elements\n",
        "print(t[:-2])\n",
        "\n",
        "#print elements from starting to end\n",
        "print(t[:])"
      ],
      "execution_count": 0,
      "outputs": [
        {
          "output_type": "stream",
          "text": [
            "(2, 3, 4)\n",
            "(1, 2, 3, 4)\n",
            "(1, 2, 3, 4, 5, 6)\n"
          ],
          "name": "stdout"
        }
      ]
    },
    {
      "metadata": {
        "id": "qdIBPOeUW1xQ",
        "colab_type": "text"
      },
      "cell_type": "markdown",
      "source": [
        "# Changing a Tuple"
      ]
    },
    {
      "metadata": {
        "id": "eUsY_5CLW1xS",
        "colab_type": "text"
      },
      "cell_type": "markdown",
      "source": [
        "#unlike lists, tuples are immutable\n",
        "#This means that elements of a tuple cannot be changed once it has been assigned. But, if the element is itself a mutable datatype like list, its nested items can be changed."
      ]
    },
    {
      "metadata": {
        "id": "IWMbvoWsW1xU",
        "colab_type": "code",
        "outputId": "0025a235-bead-4220-eba6-eb7f576741a3",
        "colab": {}
      },
      "cell_type": "code",
      "source": [
        "#creating tuple\n",
        "t = (1, 2, 3, 4, [5, 6, 7])\n",
        "\n",
        "t[2] = 'x' #will get TypeError"
      ],
      "execution_count": 0,
      "outputs": [
        {
          "output_type": "error",
          "ename": "TypeError",
          "evalue": "'tuple' object does not support item assignment",
          "traceback": [
            "\u001b[0;31m---------------------------------------------------------------------------\u001b[0m",
            "\u001b[0;31mTypeError\u001b[0m                                 Traceback (most recent call last)",
            "\u001b[0;32m<ipython-input-3-9f4cbf6ee0de>\u001b[0m in \u001b[0;36m<module>\u001b[0;34m()\u001b[0m\n\u001b[1;32m      2\u001b[0m \u001b[0mt\u001b[0m \u001b[0;34m=\u001b[0m \u001b[0;34m(\u001b[0m\u001b[0;36m1\u001b[0m\u001b[0;34m,\u001b[0m \u001b[0;36m2\u001b[0m\u001b[0;34m,\u001b[0m \u001b[0;36m3\u001b[0m\u001b[0;34m,\u001b[0m \u001b[0;36m4\u001b[0m\u001b[0;34m,\u001b[0m \u001b[0;34m[\u001b[0m\u001b[0;36m5\u001b[0m\u001b[0;34m,\u001b[0m \u001b[0;36m6\u001b[0m\u001b[0;34m,\u001b[0m \u001b[0;36m7\u001b[0m\u001b[0;34m]\u001b[0m\u001b[0;34m)\u001b[0m\u001b[0;34m\u001b[0m\u001b[0m\n\u001b[1;32m      3\u001b[0m \u001b[0;34m\u001b[0m\u001b[0m\n\u001b[0;32m----> 4\u001b[0;31m \u001b[0mt\u001b[0m\u001b[0;34m[\u001b[0m\u001b[0;36m2\u001b[0m\u001b[0;34m]\u001b[0m \u001b[0;34m=\u001b[0m \u001b[0;34m'x'\u001b[0m \u001b[0;31m#will get TypeError\u001b[0m\u001b[0;34m\u001b[0m\u001b[0m\n\u001b[0m",
            "\u001b[0;31mTypeError\u001b[0m: 'tuple' object does not support item assignment"
          ]
        }
      ]
    },
    {
      "metadata": {
        "id": "sKsrNhKoW1xd",
        "colab_type": "code",
        "outputId": "a721d806-4216-49b4-d8b3-b292e078046d",
        "colab": {}
      },
      "cell_type": "code",
      "source": [
        "t[4][1] = 'satish'\n",
        "print(t)"
      ],
      "execution_count": 0,
      "outputs": [
        {
          "output_type": "stream",
          "text": [
            "(1, 2, 3, 4, [5, 'satish', 7])\n"
          ],
          "name": "stdout"
        }
      ]
    },
    {
      "metadata": {
        "id": "uz687xA3W1xo",
        "colab_type": "code",
        "outputId": "fa2a416f-f1c0-43e3-b8fa-6921cf2e7c4f",
        "colab": {}
      },
      "cell_type": "code",
      "source": [
        "#concatinating tuples\n",
        "\n",
        "t = (1, 2, 3) + (4, 5, 6)\n",
        "print(t)"
      ],
      "execution_count": 0,
      "outputs": [
        {
          "output_type": "stream",
          "text": [
            "(1, 2, 3, 4, 5, 6)\n"
          ],
          "name": "stdout"
        }
      ]
    },
    {
      "metadata": {
        "id": "JO-H9kqgW1xy",
        "colab_type": "code",
        "outputId": "08fa6f03-1ae6-41d8-b125-9c9ebc23ea1a",
        "colab": {}
      },
      "cell_type": "code",
      "source": [
        "#repeat the elements in a tuple for a given number of times using the * operator.\n",
        "t = (('satish', ) * 4)\n",
        "print(t)"
      ],
      "execution_count": 0,
      "outputs": [
        {
          "output_type": "stream",
          "text": [
            "('satish', 'satish', 'satish', 'satish')\n"
          ],
          "name": "stdout"
        }
      ]
    },
    {
      "metadata": {
        "id": "j-DCyHpHW1x7",
        "colab_type": "text"
      },
      "cell_type": "markdown",
      "source": [
        "# Tuple Deletion"
      ]
    },
    {
      "metadata": {
        "id": "CsDVb2_qW1x-",
        "colab_type": "code",
        "colab": {}
      },
      "cell_type": "code",
      "source": [
        "#we cannot change the elements in a tuple. \n",
        "# That also means we cannot delete or remove items from a tuple.\n",
        "\n",
        "#delete entire tuple using del keyword\n",
        "t = (1, 2, 3, 4, 5, 6)\n",
        "\n",
        "#delete entire tuple\n",
        "del t\n",
        "\n"
      ],
      "execution_count": 0,
      "outputs": []
    },
    {
      "metadata": {
        "id": "WGJQ1bUqW1yF",
        "colab_type": "text"
      },
      "cell_type": "markdown",
      "source": [
        "# Tuple Count"
      ]
    },
    {
      "metadata": {
        "id": "BWjISs-cW1yG",
        "colab_type": "code",
        "outputId": "c652abe6-ceb7-4fc0-f138-dd7c463ba196",
        "colab": {}
      },
      "cell_type": "code",
      "source": [
        "t = (1, 2, 3, 1, 3, 3, 4, 1)\n",
        "\n",
        "#get the frequency of particular element appears in a tuple\n",
        "t.count(1)"
      ],
      "execution_count": 0,
      "outputs": [
        {
          "output_type": "execute_result",
          "data": {
            "text/plain": [
              "3"
            ]
          },
          "metadata": {
            "tags": []
          },
          "execution_count": 19
        }
      ]
    },
    {
      "metadata": {
        "id": "qnauVowOW1yM",
        "colab_type": "text"
      },
      "cell_type": "markdown",
      "source": [
        "# Tuple Index"
      ]
    },
    {
      "metadata": {
        "id": "0rYm4JpVW1yR",
        "colab_type": "code",
        "outputId": "89768c83-8a34-4588-a617-b2db0dbb919b",
        "colab": {}
      },
      "cell_type": "code",
      "source": [
        "t = (1, 2, 3, 1, 3, 3, 4, 1)\n",
        "\n",
        "print(t.index(3)) #return index of the first element is equal to 3\n",
        "\n",
        "#print index of the 1\n",
        "\n"
      ],
      "execution_count": 0,
      "outputs": [
        {
          "output_type": "stream",
          "text": [
            "2\n"
          ],
          "name": "stdout"
        }
      ]
    },
    {
      "metadata": {
        "id": "YmVzphzQW1yX",
        "colab_type": "text"
      },
      "cell_type": "markdown",
      "source": [
        "# Tuple Memebership "
      ]
    },
    {
      "metadata": {
        "id": "VuMvX1luW1ya",
        "colab_type": "code",
        "outputId": "51893364-149e-4204-dbea-fa390e791887",
        "colab": {}
      },
      "cell_type": "code",
      "source": [
        "#test if an item exists in a tuple or not, using the keyword in.\n",
        "t = (1, 2, 3, 4, 5, 6)\n",
        "\n",
        "print(1 in t)"
      ],
      "execution_count": 0,
      "outputs": [
        {
          "output_type": "stream",
          "text": [
            "True\n"
          ],
          "name": "stdout"
        }
      ]
    },
    {
      "metadata": {
        "id": "F7vpD3H1W1yl",
        "colab_type": "code",
        "outputId": "d806771d-65ba-4505-bfea-1ed357be9471",
        "colab": {}
      },
      "cell_type": "code",
      "source": [
        "print(7 in t)"
      ],
      "execution_count": 0,
      "outputs": [
        {
          "output_type": "stream",
          "text": [
            "False\n"
          ],
          "name": "stdout"
        }
      ]
    },
    {
      "metadata": {
        "id": "6O3SvnMqW1yt",
        "colab_type": "text"
      },
      "cell_type": "markdown",
      "source": [
        "# Built in Functions"
      ]
    },
    {
      "metadata": {
        "id": "N-hLsotKW1yw",
        "colab_type": "text"
      },
      "cell_type": "markdown",
      "source": [
        "# Tuple Length"
      ]
    },
    {
      "metadata": {
        "id": "QtbORyUtW1yy",
        "colab_type": "code",
        "outputId": "7cf4f6b5-7c23-4054-8609-d1f0f8f20afc",
        "colab": {}
      },
      "cell_type": "code",
      "source": [
        "t = (1, 2, 3, 4, 5, 6)\n",
        "print(len(t))"
      ],
      "execution_count": 0,
      "outputs": [
        {
          "output_type": "stream",
          "text": [
            "6\n"
          ],
          "name": "stdout"
        }
      ]
    },
    {
      "metadata": {
        "id": "AOpYCTrMW1y9",
        "colab_type": "text"
      },
      "cell_type": "markdown",
      "source": [
        "# Tuple Sort"
      ]
    },
    {
      "metadata": {
        "id": "L5zegs5rW1y-",
        "colab_type": "code",
        "outputId": "e2021e2e-2b36-4db7-eb2e-3f7eef843a97",
        "colab": {}
      },
      "cell_type": "code",
      "source": [
        "t = (4, 5, 1, 2, 3)\n",
        "\n",
        "new_t = sorted(t)\n",
        "print(new_t) #Take elements in the tuple and return a new sorted list \n",
        "             #(does not sort the tuple itself)."
      ],
      "execution_count": 0,
      "outputs": [
        {
          "output_type": "stream",
          "text": [
            "[1, 2, 3, 4, 5]\n"
          ],
          "name": "stdout"
        }
      ]
    },
    {
      "metadata": {
        "id": "WwDredIVW1zE",
        "colab_type": "code",
        "outputId": "34583608-546d-4b1a-f0f6-9c5d13e38391",
        "colab": {}
      },
      "cell_type": "code",
      "source": [
        "#get the largest element in a tuple\n",
        "t = (2, 5, 1, 6, 9)\n",
        "\n",
        "print(max(t))"
      ],
      "execution_count": 0,
      "outputs": [
        {
          "output_type": "stream",
          "text": [
            "9\n"
          ],
          "name": "stdout"
        }
      ]
    },
    {
      "metadata": {
        "id": "RvE_tHtgW1zO",
        "colab_type": "code",
        "outputId": "af8d2b8f-beb2-48ff-df37-00a2b98bd573",
        "colab": {}
      },
      "cell_type": "code",
      "source": [
        "#get the smallest element in a tuple\n",
        "print(min(t))"
      ],
      "execution_count": 0,
      "outputs": [
        {
          "output_type": "stream",
          "text": [
            "1\n"
          ],
          "name": "stdout"
        }
      ]
    },
    {
      "metadata": {
        "id": "X96mS4EZW1zU",
        "colab_type": "code",
        "outputId": "bd0b62d4-ed97-46ae-b9be-5c380eab527d",
        "colab": {}
      },
      "cell_type": "code",
      "source": [
        "#get sum of elments in the tuple\n",
        "print(sum(t))"
      ],
      "execution_count": 0,
      "outputs": [
        {
          "output_type": "stream",
          "text": [
            "23\n"
          ],
          "name": "stdout"
        }
      ]
    }
  ]
}