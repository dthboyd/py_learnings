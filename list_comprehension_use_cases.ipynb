{
 "cells": [
  {
   "cell_type": "markdown",
   "metadata": {},
   "source": [
    "#         LIST COMPREHENSIONS USE CASES"
   ]
  },
  {
   "cell_type": "markdown",
   "metadata": {},
   "source": [
    "new_list = [expression(i) for i in prev_list if (check condition)]"
   ]
  },
  {
   "cell_type": "code",
   "execution_count": 253,
   "metadata": {},
   "outputs": [],
   "source": [
    "from sklearn import datasets\n",
    "import pandas as pd\n",
    "import matplotlib.pyplot as plt\n",
    "import numpy as np\n",
    "import string"
   ]
  },
  {
   "cell_type": "markdown",
   "metadata": {},
   "source": [
    "## TASK 1"
   ]
  },
  {
   "cell_type": "code",
   "execution_count": 128,
   "metadata": {},
   "outputs": [],
   "source": [
    "new_list=[]\n",
    "for i in range(1,9):\n",
    "    new_list.append(i)"
   ]
  },
  {
   "cell_type": "code",
   "execution_count": 129,
   "metadata": {},
   "outputs": [
    {
     "data": {
      "text/plain": [
       "[1, 2, 3, 4, 5, 6, 7, 8]"
      ]
     },
     "execution_count": 129,
     "metadata": {},
     "output_type": "execute_result"
    }
   ],
   "source": [
    "new_list"
   ]
  },
  {
   "cell_type": "code",
   "execution_count": 331,
   "metadata": {},
   "outputs": [],
   "source": [
    "new_list = [i for i in range(1,9)]"
   ]
  },
  {
   "cell_type": "code",
   "execution_count": 332,
   "metadata": {},
   "outputs": [
    {
     "data": {
      "text/plain": [
       "[1, 2, 3, 4, 5, 6, 7, 8]"
      ]
     },
     "execution_count": 332,
     "metadata": {},
     "output_type": "execute_result"
    }
   ],
   "source": [
    "new_list"
   ]
  },
  {
   "cell_type": "markdown",
   "metadata": {},
   "source": [
    "## TASK 2"
   ]
  },
  {
   "cell_type": "code",
   "execution_count": 112,
   "metadata": {},
   "outputs": [],
   "source": [
    "list1=[]\n",
    "for i in range(len(new_list)):\n",
    "    if (new_list[i]%2 == 0):\n",
    "        list1.append(new_list[i])"
   ]
  },
  {
   "cell_type": "code",
   "execution_count": 113,
   "metadata": {},
   "outputs": [
    {
     "data": {
      "text/plain": [
       "[2, 4, 6, 8]"
      ]
     },
     "execution_count": 113,
     "metadata": {},
     "output_type": "execute_result"
    }
   ],
   "source": [
    "list1"
   ]
  },
  {
   "cell_type": "code",
   "execution_count": 97,
   "metadata": {},
   "outputs": [],
   "source": [
    "list2 = [i for i in new_list if (i%2==0) ]"
   ]
  },
  {
   "cell_type": "code",
   "execution_count": 98,
   "metadata": {},
   "outputs": [
    {
     "data": {
      "text/plain": [
       "[2, 4, 6, 8]"
      ]
     },
     "execution_count": 98,
     "metadata": {},
     "output_type": "execute_result"
    }
   ],
   "source": [
    "list2"
   ]
  },
  {
   "cell_type": "markdown",
   "metadata": {},
   "source": [
    "## TASK 3"
   ]
  },
  {
   "cell_type": "code",
   "execution_count": 119,
   "metadata": {},
   "outputs": [],
   "source": [
    "for i in range(len(new_list)):\n",
    "    if (new_list[i]%2 != 0):\n",
    "        new_list[i]=new_list[i]**2"
   ]
  },
  {
   "cell_type": "code",
   "execution_count": 120,
   "metadata": {},
   "outputs": [
    {
     "data": {
      "text/plain": [
       "[1, 2, 9, 4, 25, 6, 49, 8]"
      ]
     },
     "execution_count": 120,
     "metadata": {},
     "output_type": "execute_result"
    }
   ],
   "source": [
    "new_list"
   ]
  },
  {
   "cell_type": "code",
   "execution_count": 125,
   "metadata": {},
   "outputs": [],
   "source": [
    "new_list = [i**2 if (i%2!=0) else i for i in new_list]"
   ]
  },
  {
   "cell_type": "code",
   "execution_count": 127,
   "metadata": {},
   "outputs": [
    {
     "data": {
      "text/plain": [
       "[1, 2, 9, 4, 25, 6, 49, 8]"
      ]
     },
     "execution_count": 127,
     "metadata": {},
     "output_type": "execute_result"
    }
   ],
   "source": [
    "new_list"
   ]
  },
  {
   "cell_type": "markdown",
   "metadata": {},
   "source": [
    "## TASK 4"
   ]
  },
  {
   "cell_type": "code",
   "execution_count": 260,
   "metadata": {},
   "outputs": [],
   "source": [
    "list1 = [10, 32, 33, 41, 51, 87]\n",
    "list2 = [20, 33, 41, 55, 98, 87, 78, 83]"
   ]
  },
  {
   "cell_type": "code",
   "execution_count": 262,
   "metadata": {},
   "outputs": [
    {
     "name": "stdout",
     "output_type": "stream",
     "text": [
      "[33, 41, 87]\n"
     ]
    }
   ],
   "source": [
    "intersection = []\n",
    "\n",
    "for i in list1:\n",
    "  for j in list2:\n",
    "    if i == j:\n",
    "      intersection.append(i)\n",
    "      \n",
    "print(intersection)"
   ]
  },
  {
   "cell_type": "code",
   "execution_count": 263,
   "metadata": {},
   "outputs": [
    {
     "name": "stdout",
     "output_type": "stream",
     "text": [
      "[33, 41, 87]\n"
     ]
    }
   ],
   "source": [
    "intersection = [i for i in list1 for j in list2 if i == j]\n",
    "print(intersection)"
   ]
  },
  {
   "cell_type": "markdown",
   "metadata": {},
   "source": [
    "## TASK 5"
   ]
  },
  {
   "cell_type": "code",
   "execution_count": 167,
   "metadata": {},
   "outputs": [],
   "source": [
    "statement = 'we will win world cup this time #proton #positive_vibes'"
   ]
  },
  {
   "cell_type": "code",
   "execution_count": 168,
   "metadata": {},
   "outputs": [
    {
     "name": "stdout",
     "output_type": "stream",
     "text": [
      "we will win world cup this time #PROTON #POSITIVE_VIBES\n"
     ]
    }
   ],
   "source": [
    "st = statement.split(\" \")\n",
    "for i in range(len(st)):\n",
    "    if st[i][0]=='#':\n",
    "        st[i]=st[i].upper()\n",
    "\n",
    "statement = \" \".join(st)\n",
    "print(statement)"
   ]
  },
  {
   "cell_type": "code",
   "execution_count": 169,
   "metadata": {},
   "outputs": [
    {
     "name": "stdout",
     "output_type": "stream",
     "text": [
      "we will win world cup this time #PROTON #POSITIVE_VIBES\n"
     ]
    }
   ],
   "source": [
    "st = statement.split(\" \")\n",
    "\n",
    "st = [i.upper() if (i[0]=='#') else i for i in st]\n",
    "\n",
    "statement = \" \".join(st)\n",
    "print(statement)"
   ]
  },
  {
   "cell_type": "markdown",
   "metadata": {},
   "source": [
    "## TASK 6"
   ]
  },
  {
   "cell_type": "code",
   "execution_count": 308,
   "metadata": {},
   "outputs": [],
   "source": [
    "iris = datasets.load_iris()\n",
    "X = pd.DataFrame(data=iris.data, columns = iris.feature_names)"
   ]
  },
  {
   "cell_type": "code",
   "execution_count": 309,
   "metadata": {},
   "outputs": [
    {
     "name": "stdout",
     "output_type": "stream",
     "text": [
      "maximum: 7.9, minimum: 4.3\n"
     ]
    }
   ],
   "source": [
    "mx=max(X['sepal length (cm)'])\n",
    "mn=min(X['sepal length (cm)'])\n",
    "print(\"maximum: {0}, minimum: {1}\".format(mx,mn))"
   ]
  },
  {
   "cell_type": "code",
   "execution_count": 243,
   "metadata": {},
   "outputs": [],
   "source": [
    "for i in range(len(X['sepal length (cm)'])):\n",
    "    X['sepal length (cm)'][i]=abs((X['sepal length (cm)'][i]-mn)/(mx-mn))"
   ]
  },
  {
   "cell_type": "code",
   "execution_count": 244,
   "metadata": {},
   "outputs": [
    {
     "name": "stdout",
     "output_type": "stream",
     "text": [
      "0.0 1.0\n"
     ]
    }
   ],
   "source": [
    "print(min(X['sepal length (cm)']), max(X['sepal length (cm)']))"
   ]
  },
  {
   "cell_type": "code",
   "execution_count": null,
   "metadata": {},
   "outputs": [],
   "source": [
    "X = pd.DataFrame(data=iris.data, columns = iris.feature_names)"
   ]
  },
  {
   "cell_type": "code",
   "execution_count": 249,
   "metadata": {},
   "outputs": [],
   "source": [
    "mx=max(X['sepal length (cm)'])\n",
    "mn=min(X['sepal length (cm)'])"
   ]
  },
  {
   "cell_type": "code",
   "execution_count": 250,
   "metadata": {},
   "outputs": [],
   "source": [
    "X['sepal length (cm)'] = [abs((i-mn)/(mx-mn)) for i in X['sepal length (cm)']]"
   ]
  },
  {
   "cell_type": "code",
   "execution_count": 251,
   "metadata": {},
   "outputs": [
    {
     "name": "stdout",
     "output_type": "stream",
     "text": [
      "0.0 1.0\n"
     ]
    }
   ],
   "source": [
    "print(min(X['sepal length (cm)']), max(X['sepal length (cm)']))"
   ]
  },
  {
   "cell_type": "markdown",
   "metadata": {},
   "source": [
    "## TASK 7"
   ]
  },
  {
   "cell_type": "code",
   "execution_count": 310,
   "metadata": {},
   "outputs": [],
   "source": [
    "iris = datasets.load_iris()\n",
    "X = pd.DataFrame(data=iris.data, columns = iris.feature_names)"
   ]
  },
  {
   "cell_type": "code",
   "execution_count": 312,
   "metadata": {},
   "outputs": [],
   "source": [
    "def std(a):\n",
    "    mx=max(a)\n",
    "    mn=min(a)\n",
    "    for i in range(len(a)):\n",
    "        a[i]=abs((a[i]-mn)/(mx-mn))\n",
    "    return a"
   ]
  },
  {
   "cell_type": "code",
   "execution_count": 313,
   "metadata": {},
   "outputs": [
    {
     "name": "stdout",
     "output_type": "stream",
     "text": [
      "4.3 7.9\n",
      "2.0 4.4\n",
      "1.0 6.9\n",
      "0.1 2.5\n"
     ]
    }
   ],
   "source": [
    "print(min(X['sepal length (cm)']), max(X['sepal length (cm)']))\n",
    "print(min(X['sepal width (cm)']), max(X['sepal width (cm)']))\n",
    "print(min(X['petal length (cm)']), max(X['petal length (cm)']))\n",
    "print(min(X['petal width (cm)']), max(X['petal width (cm)']))"
   ]
  },
  {
   "cell_type": "code",
   "execution_count": 314,
   "metadata": {},
   "outputs": [],
   "source": [
    "X['sepal length (cm)'] = std(X['sepal length (cm)'])\n",
    "X['sepal width (cm)'] = std(X['sepal width (cm)'])\n",
    "X['petal length (cm)'] = std(X['petal length (cm)'])\n",
    "X['petal width (cm)'] = std(X['sepal width (cm)'])"
   ]
  },
  {
   "cell_type": "code",
   "execution_count": 315,
   "metadata": {},
   "outputs": [
    {
     "name": "stdout",
     "output_type": "stream",
     "text": [
      "0.0 1.0\n",
      "0.0 1.0\n",
      "0.0 1.0\n",
      "0.0 1.0\n"
     ]
    }
   ],
   "source": [
    "print(min(X['sepal length (cm)']), max(X['sepal length (cm)']))\n",
    "print(min(X['sepal width (cm)']), max(X['sepal width (cm)']))\n",
    "print(min(X['petal length (cm)']), max(X['petal length (cm)']))\n",
    "print(min(X['petal width (cm)']), max(X['petal width (cm)']))"
   ]
  },
  {
   "cell_type": "code",
   "execution_count": 318,
   "metadata": {},
   "outputs": [],
   "source": [
    "iris = datasets.load_iris()\n",
    "X = pd.DataFrame(data=iris.data, columns = iris.feature_names)"
   ]
  },
  {
   "cell_type": "code",
   "execution_count": 319,
   "metadata": {},
   "outputs": [
    {
     "name": "stdout",
     "output_type": "stream",
     "text": [
      "4.3 7.9\n",
      "2.0 4.4\n",
      "1.0 6.9\n",
      "0.1 2.5\n"
     ]
    }
   ],
   "source": [
    "print(min(X['sepal length (cm)']), max(X['sepal length (cm)']))\n",
    "print(min(X['sepal width (cm)']), max(X['sepal width (cm)']))\n",
    "print(min(X['petal length (cm)']), max(X['petal length (cm)']))\n",
    "print(min(X['petal width (cm)']), max(X['petal width (cm)']))"
   ]
  },
  {
   "cell_type": "code",
   "execution_count": 320,
   "metadata": {},
   "outputs": [],
   "source": [
    "X = pd.DataFrame([std(X[i]) for i in (iris.feature_names) ]).transpose()"
   ]
  },
  {
   "cell_type": "code",
   "execution_count": 321,
   "metadata": {},
   "outputs": [
    {
     "name": "stdout",
     "output_type": "stream",
     "text": [
      "0.0 1.0\n",
      "0.0 1.0\n",
      "0.0 1.0\n",
      "0.0 1.0\n"
     ]
    }
   ],
   "source": [
    "print(min(X['sepal length (cm)']), max(X['sepal length (cm)']))\n",
    "print(min(X['sepal width (cm)']), max(X['sepal width (cm)']))\n",
    "print(min(X['petal length (cm)']), max(X['petal length (cm)']))\n",
    "print(min(X['petal width (cm)']), max(X['petal width (cm)']))"
   ]
  }
 ],
 "metadata": {
  "kernelspec": {
   "display_name": "Python 3",
   "language": "python",
   "name": "python3"
  },
  "language_info": {
   "codemirror_mode": {
    "name": "ipython",
    "version": 3
   },
   "file_extension": ".py",
   "mimetype": "text/x-python",
   "name": "python",
   "nbconvert_exporter": "python",
   "pygments_lexer": "ipython3",
   "version": "3.7.3"
  }
 },
 "nbformat": 4,
 "nbformat_minor": 2
}
